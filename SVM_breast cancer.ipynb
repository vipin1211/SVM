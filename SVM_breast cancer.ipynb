{
 "cells": [
  {
   "cell_type": "markdown",
   "metadata": {
    "colab_type": "text",
    "id": "5euYvq8IxNsB"
   },
   "source": [
    "# Building SVM model to detect Breast Cancer."
   ]
  },
  {
   "cell_type": "code",
   "execution_count": 35,
   "metadata": {
    "colab": {},
    "colab_type": "code",
    "id": "pLXMOcScxNsE"
   },
   "outputs": [],
   "source": [
    "from sklearn.datasets import load_breast_cancer\n",
    "import numpy as np\n",
    "import matplotlib.pyplot as plt\n",
    "%matplotlib inline"
   ]
  },
  {
   "cell_type": "code",
   "execution_count": 36,
   "metadata": {
    "colab": {},
    "colab_type": "code",
    "id": "Gu6x7ZMexNsQ"
   },
   "outputs": [],
   "source": [
    "data = load_breast_cancer()"
   ]
  },
  {
   "cell_type": "code",
   "execution_count": 37,
   "metadata": {
    "colab": {
     "base_uri": "https://localhost:8080/",
     "height": 34
    },
    "colab_type": "code",
    "id": "Z07EJbfGxNsZ",
    "outputId": "5efc1f79-7810-4ec4-aa48-d1a9eb2c5e41"
   },
   "outputs": [
    {
     "data": {
      "text/plain": [
       "['malignant', 'benign']"
      ]
     },
     "execution_count": 37,
     "metadata": {},
     "output_type": "execute_result"
    }
   ],
   "source": [
    "list(data.target_names)"
   ]
  },
  {
   "cell_type": "code",
   "execution_count": 38,
   "metadata": {
    "colab": {
     "base_uri": "https://localhost:8080/",
     "height": 521
    },
    "colab_type": "code",
    "id": "F_psjaTQxNsm",
    "outputId": "d50b873d-a65a-44b0-82a0-56f07fd90a99"
   },
   "outputs": [
    {
     "data": {
      "text/plain": [
       "['mean radius',\n",
       " 'mean texture',\n",
       " 'mean perimeter',\n",
       " 'mean area',\n",
       " 'mean smoothness',\n",
       " 'mean compactness',\n",
       " 'mean concavity',\n",
       " 'mean concave points',\n",
       " 'mean symmetry',\n",
       " 'mean fractal dimension',\n",
       " 'radius error',\n",
       " 'texture error',\n",
       " 'perimeter error',\n",
       " 'area error',\n",
       " 'smoothness error',\n",
       " 'compactness error',\n",
       " 'concavity error',\n",
       " 'concave points error',\n",
       " 'symmetry error',\n",
       " 'fractal dimension error',\n",
       " 'worst radius',\n",
       " 'worst texture',\n",
       " 'worst perimeter',\n",
       " 'worst area',\n",
       " 'worst smoothness',\n",
       " 'worst compactness',\n",
       " 'worst concavity',\n",
       " 'worst concave points',\n",
       " 'worst symmetry',\n",
       " 'worst fractal dimension']"
      ]
     },
     "execution_count": 38,
     "metadata": {},
     "output_type": "execute_result"
    }
   ],
   "source": [
    "list(data.feature_names)"
   ]
  },
  {
   "cell_type": "code",
   "execution_count": 39,
   "metadata": {
    "colab": {},
    "colab_type": "code",
    "id": "NnR2bB54xNsx"
   },
   "outputs": [],
   "source": [
    "X = data.data\n",
    "y= data.target"
   ]
  },
  {
   "cell_type": "code",
   "execution_count": 40,
   "metadata": {
    "colab": {
     "base_uri": "https://localhost:8080/",
     "height": 1000
    },
    "colab_type": "code",
    "id": "qHtgNWGsxNs5",
    "outputId": "71f8b616-77f7-469a-c41c-a1b7318257ca"
   },
   "outputs": [
    {
     "data": {
      "text/plain": [
       "array([[1.799e+01, 1.038e+01, 1.228e+02, 1.001e+03, 1.184e-01, 2.776e-01,\n",
       "        3.001e-01, 1.471e-01, 2.419e-01, 7.871e-02, 1.095e+00, 9.053e-01,\n",
       "        8.589e+00, 1.534e+02, 6.399e-03, 4.904e-02, 5.373e-02, 1.587e-02,\n",
       "        3.003e-02, 6.193e-03, 2.538e+01, 1.733e+01, 1.846e+02, 2.019e+03,\n",
       "        1.622e-01, 6.656e-01, 7.119e-01, 2.654e-01, 4.601e-01, 1.189e-01],\n",
       "       [2.057e+01, 1.777e+01, 1.329e+02, 1.326e+03, 8.474e-02, 7.864e-02,\n",
       "        8.690e-02, 7.017e-02, 1.812e-01, 5.667e-02, 5.435e-01, 7.339e-01,\n",
       "        3.398e+00, 7.408e+01, 5.225e-03, 1.308e-02, 1.860e-02, 1.340e-02,\n",
       "        1.389e-02, 3.532e-03, 2.499e+01, 2.341e+01, 1.588e+02, 1.956e+03,\n",
       "        1.238e-01, 1.866e-01, 2.416e-01, 1.860e-01, 2.750e-01, 8.902e-02],\n",
       "       [1.969e+01, 2.125e+01, 1.300e+02, 1.203e+03, 1.096e-01, 1.599e-01,\n",
       "        1.974e-01, 1.279e-01, 2.069e-01, 5.999e-02, 7.456e-01, 7.869e-01,\n",
       "        4.585e+00, 9.403e+01, 6.150e-03, 4.006e-02, 3.832e-02, 2.058e-02,\n",
       "        2.250e-02, 4.571e-03, 2.357e+01, 2.553e+01, 1.525e+02, 1.709e+03,\n",
       "        1.444e-01, 4.245e-01, 4.504e-01, 2.430e-01, 3.613e-01, 8.758e-02],\n",
       "       [1.142e+01, 2.038e+01, 7.758e+01, 3.861e+02, 1.425e-01, 2.839e-01,\n",
       "        2.414e-01, 1.052e-01, 2.597e-01, 9.744e-02, 4.956e-01, 1.156e+00,\n",
       "        3.445e+00, 2.723e+01, 9.110e-03, 7.458e-02, 5.661e-02, 1.867e-02,\n",
       "        5.963e-02, 9.208e-03, 1.491e+01, 2.650e+01, 9.887e+01, 5.677e+02,\n",
       "        2.098e-01, 8.663e-01, 6.869e-01, 2.575e-01, 6.638e-01, 1.730e-01],\n",
       "       [2.029e+01, 1.434e+01, 1.351e+02, 1.297e+03, 1.003e-01, 1.328e-01,\n",
       "        1.980e-01, 1.043e-01, 1.809e-01, 5.883e-02, 7.572e-01, 7.813e-01,\n",
       "        5.438e+00, 9.444e+01, 1.149e-02, 2.461e-02, 5.688e-02, 1.885e-02,\n",
       "        1.756e-02, 5.115e-03, 2.254e+01, 1.667e+01, 1.522e+02, 1.575e+03,\n",
       "        1.374e-01, 2.050e-01, 4.000e-01, 1.625e-01, 2.364e-01, 7.678e-02],\n",
       "       [1.245e+01, 1.570e+01, 8.257e+01, 4.771e+02, 1.278e-01, 1.700e-01,\n",
       "        1.578e-01, 8.089e-02, 2.087e-01, 7.613e-02, 3.345e-01, 8.902e-01,\n",
       "        2.217e+00, 2.719e+01, 7.510e-03, 3.345e-02, 3.672e-02, 1.137e-02,\n",
       "        2.165e-02, 5.082e-03, 1.547e+01, 2.375e+01, 1.034e+02, 7.416e+02,\n",
       "        1.791e-01, 5.249e-01, 5.355e-01, 1.741e-01, 3.985e-01, 1.244e-01],\n",
       "       [1.825e+01, 1.998e+01, 1.196e+02, 1.040e+03, 9.463e-02, 1.090e-01,\n",
       "        1.127e-01, 7.400e-02, 1.794e-01, 5.742e-02, 4.467e-01, 7.732e-01,\n",
       "        3.180e+00, 5.391e+01, 4.314e-03, 1.382e-02, 2.254e-02, 1.039e-02,\n",
       "        1.369e-02, 2.179e-03, 2.288e+01, 2.766e+01, 1.532e+02, 1.606e+03,\n",
       "        1.442e-01, 2.576e-01, 3.784e-01, 1.932e-01, 3.063e-01, 8.368e-02],\n",
       "       [1.371e+01, 2.083e+01, 9.020e+01, 5.779e+02, 1.189e-01, 1.645e-01,\n",
       "        9.366e-02, 5.985e-02, 2.196e-01, 7.451e-02, 5.835e-01, 1.377e+00,\n",
       "        3.856e+00, 5.096e+01, 8.805e-03, 3.029e-02, 2.488e-02, 1.448e-02,\n",
       "        1.486e-02, 5.412e-03, 1.706e+01, 2.814e+01, 1.106e+02, 8.970e+02,\n",
       "        1.654e-01, 3.682e-01, 2.678e-01, 1.556e-01, 3.196e-01, 1.151e-01],\n",
       "       [1.300e+01, 2.182e+01, 8.750e+01, 5.198e+02, 1.273e-01, 1.932e-01,\n",
       "        1.859e-01, 9.353e-02, 2.350e-01, 7.389e-02, 3.063e-01, 1.002e+00,\n",
       "        2.406e+00, 2.432e+01, 5.731e-03, 3.502e-02, 3.553e-02, 1.226e-02,\n",
       "        2.143e-02, 3.749e-03, 1.549e+01, 3.073e+01, 1.062e+02, 7.393e+02,\n",
       "        1.703e-01, 5.401e-01, 5.390e-01, 2.060e-01, 4.378e-01, 1.072e-01],\n",
       "       [1.246e+01, 2.404e+01, 8.397e+01, 4.759e+02, 1.186e-01, 2.396e-01,\n",
       "        2.273e-01, 8.543e-02, 2.030e-01, 8.243e-02, 2.976e-01, 1.599e+00,\n",
       "        2.039e+00, 2.394e+01, 7.149e-03, 7.217e-02, 7.743e-02, 1.432e-02,\n",
       "        1.789e-02, 1.008e-02, 1.509e+01, 4.068e+01, 9.765e+01, 7.114e+02,\n",
       "        1.853e-01, 1.058e+00, 1.105e+00, 2.210e-01, 4.366e-01, 2.075e-01],\n",
       "       [1.602e+01, 2.324e+01, 1.027e+02, 7.978e+02, 8.206e-02, 6.669e-02,\n",
       "        3.299e-02, 3.323e-02, 1.528e-01, 5.697e-02, 3.795e-01, 1.187e+00,\n",
       "        2.466e+00, 4.051e+01, 4.029e-03, 9.269e-03, 1.101e-02, 7.591e-03,\n",
       "        1.460e-02, 3.042e-03, 1.919e+01, 3.388e+01, 1.238e+02, 1.150e+03,\n",
       "        1.181e-01, 1.551e-01, 1.459e-01, 9.975e-02, 2.948e-01, 8.452e-02],\n",
       "       [1.578e+01, 1.789e+01, 1.036e+02, 7.810e+02, 9.710e-02, 1.292e-01,\n",
       "        9.954e-02, 6.606e-02, 1.842e-01, 6.082e-02, 5.058e-01, 9.849e-01,\n",
       "        3.564e+00, 5.416e+01, 5.771e-03, 4.061e-02, 2.791e-02, 1.282e-02,\n",
       "        2.008e-02, 4.144e-03, 2.042e+01, 2.728e+01, 1.365e+02, 1.299e+03,\n",
       "        1.396e-01, 5.609e-01, 3.965e-01, 1.810e-01, 3.792e-01, 1.048e-01],\n",
       "       [1.917e+01, 2.480e+01, 1.324e+02, 1.123e+03, 9.740e-02, 2.458e-01,\n",
       "        2.065e-01, 1.118e-01, 2.397e-01, 7.800e-02, 9.555e-01, 3.568e+00,\n",
       "        1.107e+01, 1.162e+02, 3.139e-03, 8.297e-02, 8.890e-02, 4.090e-02,\n",
       "        4.484e-02, 1.284e-02, 2.096e+01, 2.994e+01, 1.517e+02, 1.332e+03,\n",
       "        1.037e-01, 3.903e-01, 3.639e-01, 1.767e-01, 3.176e-01, 1.023e-01],\n",
       "       [1.585e+01, 2.395e+01, 1.037e+02, 7.827e+02, 8.401e-02, 1.002e-01,\n",
       "        9.938e-02, 5.364e-02, 1.847e-01, 5.338e-02, 4.033e-01, 1.078e+00,\n",
       "        2.903e+00, 3.658e+01, 9.769e-03, 3.126e-02, 5.051e-02, 1.992e-02,\n",
       "        2.981e-02, 3.002e-03, 1.684e+01, 2.766e+01, 1.120e+02, 8.765e+02,\n",
       "        1.131e-01, 1.924e-01, 2.322e-01, 1.119e-01, 2.809e-01, 6.287e-02],\n",
       "       [1.373e+01, 2.261e+01, 9.360e+01, 5.783e+02, 1.131e-01, 2.293e-01,\n",
       "        2.128e-01, 8.025e-02, 2.069e-01, 7.682e-02, 2.121e-01, 1.169e+00,\n",
       "        2.061e+00, 1.921e+01, 6.429e-03, 5.936e-02, 5.501e-02, 1.628e-02,\n",
       "        1.961e-02, 8.093e-03, 1.503e+01, 3.201e+01, 1.088e+02, 6.977e+02,\n",
       "        1.651e-01, 7.725e-01, 6.943e-01, 2.208e-01, 3.596e-01, 1.431e-01],\n",
       "       [1.454e+01, 2.754e+01, 9.673e+01, 6.588e+02, 1.139e-01, 1.595e-01,\n",
       "        1.639e-01, 7.364e-02, 2.303e-01, 7.077e-02, 3.700e-01, 1.033e+00,\n",
       "        2.879e+00, 3.255e+01, 5.607e-03, 4.240e-02, 4.741e-02, 1.090e-02,\n",
       "        1.857e-02, 5.466e-03, 1.746e+01, 3.713e+01, 1.241e+02, 9.432e+02,\n",
       "        1.678e-01, 6.577e-01, 7.026e-01, 1.712e-01, 4.218e-01, 1.341e-01],\n",
       "       [1.468e+01, 2.013e+01, 9.474e+01, 6.845e+02, 9.867e-02, 7.200e-02,\n",
       "        7.395e-02, 5.259e-02, 1.586e-01, 5.922e-02, 4.727e-01, 1.240e+00,\n",
       "        3.195e+00, 4.540e+01, 5.718e-03, 1.162e-02, 1.998e-02, 1.109e-02,\n",
       "        1.410e-02, 2.085e-03, 1.907e+01, 3.088e+01, 1.234e+02, 1.138e+03,\n",
       "        1.464e-01, 1.871e-01, 2.914e-01, 1.609e-01, 3.029e-01, 8.216e-02],\n",
       "       [1.613e+01, 2.068e+01, 1.081e+02, 7.988e+02, 1.170e-01, 2.022e-01,\n",
       "        1.722e-01, 1.028e-01, 2.164e-01, 7.356e-02, 5.692e-01, 1.073e+00,\n",
       "        3.854e+00, 5.418e+01, 7.026e-03, 2.501e-02, 3.188e-02, 1.297e-02,\n",
       "        1.689e-02, 4.142e-03, 2.096e+01, 3.148e+01, 1.368e+02, 1.315e+03,\n",
       "        1.789e-01, 4.233e-01, 4.784e-01, 2.073e-01, 3.706e-01, 1.142e-01],\n",
       "       [1.981e+01, 2.215e+01, 1.300e+02, 1.260e+03, 9.831e-02, 1.027e-01,\n",
       "        1.479e-01, 9.498e-02, 1.582e-01, 5.395e-02, 7.582e-01, 1.017e+00,\n",
       "        5.865e+00, 1.124e+02, 6.494e-03, 1.893e-02, 3.391e-02, 1.521e-02,\n",
       "        1.356e-02, 1.997e-03, 2.732e+01, 3.088e+01, 1.868e+02, 2.398e+03,\n",
       "        1.512e-01, 3.150e-01, 5.372e-01, 2.388e-01, 2.768e-01, 7.615e-02],\n",
       "       [1.354e+01, 1.436e+01, 8.746e+01, 5.663e+02, 9.779e-02, 8.129e-02,\n",
       "        6.664e-02, 4.781e-02, 1.885e-01, 5.766e-02, 2.699e-01, 7.886e-01,\n",
       "        2.058e+00, 2.356e+01, 8.462e-03, 1.460e-02, 2.387e-02, 1.315e-02,\n",
       "        1.980e-02, 2.300e-03, 1.511e+01, 1.926e+01, 9.970e+01, 7.112e+02,\n",
       "        1.440e-01, 1.773e-01, 2.390e-01, 1.288e-01, 2.977e-01, 7.259e-02],\n",
       "       [1.308e+01, 1.571e+01, 8.563e+01, 5.200e+02, 1.075e-01, 1.270e-01,\n",
       "        4.568e-02, 3.110e-02, 1.967e-01, 6.811e-02, 1.852e-01, 7.477e-01,\n",
       "        1.383e+00, 1.467e+01, 4.097e-03, 1.898e-02, 1.698e-02, 6.490e-03,\n",
       "        1.678e-02, 2.425e-03, 1.450e+01, 2.049e+01, 9.609e+01, 6.305e+02,\n",
       "        1.312e-01, 2.776e-01, 1.890e-01, 7.283e-02, 3.184e-01, 8.183e-02],\n",
       "       [9.504e+00, 1.244e+01, 6.034e+01, 2.739e+02, 1.024e-01, 6.492e-02,\n",
       "        2.956e-02, 2.076e-02, 1.815e-01, 6.905e-02, 2.773e-01, 9.768e-01,\n",
       "        1.909e+00, 1.570e+01, 9.606e-03, 1.432e-02, 1.985e-02, 1.421e-02,\n",
       "        2.027e-02, 2.968e-03, 1.023e+01, 1.566e+01, 6.513e+01, 3.149e+02,\n",
       "        1.324e-01, 1.148e-01, 8.867e-02, 6.227e-02, 2.450e-01, 7.773e-02],\n",
       "       [1.534e+01, 1.426e+01, 1.025e+02, 7.044e+02, 1.073e-01, 2.135e-01,\n",
       "        2.077e-01, 9.756e-02, 2.521e-01, 7.032e-02, 4.388e-01, 7.096e-01,\n",
       "        3.384e+00, 4.491e+01, 6.789e-03, 5.328e-02, 6.446e-02, 2.252e-02,\n",
       "        3.672e-02, 4.394e-03, 1.807e+01, 1.908e+01, 1.251e+02, 9.809e+02,\n",
       "        1.390e-01, 5.954e-01, 6.305e-01, 2.393e-01, 4.667e-01, 9.946e-02],\n",
       "       [2.116e+01, 2.304e+01, 1.372e+02, 1.404e+03, 9.428e-02, 1.022e-01,\n",
       "        1.097e-01, 8.632e-02, 1.769e-01, 5.278e-02, 6.917e-01, 1.127e+00,\n",
       "        4.303e+00, 9.399e+01, 4.728e-03, 1.259e-02, 1.715e-02, 1.038e-02,\n",
       "        1.083e-02, 1.987e-03, 2.917e+01, 3.559e+01, 1.880e+02, 2.615e+03,\n",
       "        1.401e-01, 2.600e-01, 3.155e-01, 2.009e-01, 2.822e-01, 7.526e-02],\n",
       "       [1.665e+01, 2.138e+01, 1.100e+02, 9.046e+02, 1.121e-01, 1.457e-01,\n",
       "        1.525e-01, 9.170e-02, 1.995e-01, 6.330e-02, 8.068e-01, 9.017e-01,\n",
       "        5.455e+00, 1.026e+02, 6.048e-03, 1.882e-02, 2.741e-02, 1.130e-02,\n",
       "        1.468e-02, 2.801e-03, 2.646e+01, 3.156e+01, 1.770e+02, 2.215e+03,\n",
       "        1.805e-01, 3.578e-01, 4.695e-01, 2.095e-01, 3.613e-01, 9.564e-02],\n",
       "       [1.714e+01, 1.640e+01, 1.160e+02, 9.127e+02, 1.186e-01, 2.276e-01,\n",
       "        2.229e-01, 1.401e-01, 3.040e-01, 7.413e-02, 1.046e+00, 9.760e-01,\n",
       "        7.276e+00, 1.114e+02, 8.029e-03, 3.799e-02, 3.732e-02, 2.397e-02,\n",
       "        2.308e-02, 7.444e-03, 2.225e+01, 2.140e+01, 1.524e+02, 1.461e+03,\n",
       "        1.545e-01, 3.949e-01, 3.853e-01, 2.550e-01, 4.066e-01, 1.059e-01],\n",
       "       [1.458e+01, 2.153e+01, 9.741e+01, 6.448e+02, 1.054e-01, 1.868e-01,\n",
       "        1.425e-01, 8.783e-02, 2.252e-01, 6.924e-02, 2.545e-01, 9.832e-01,\n",
       "        2.110e+00, 2.105e+01, 4.452e-03, 3.055e-02, 2.681e-02, 1.352e-02,\n",
       "        1.454e-02, 3.711e-03, 1.762e+01, 3.321e+01, 1.224e+02, 8.969e+02,\n",
       "        1.525e-01, 6.643e-01, 5.539e-01, 2.701e-01, 4.264e-01, 1.275e-01],\n",
       "       [1.861e+01, 2.025e+01, 1.221e+02, 1.094e+03, 9.440e-02, 1.066e-01,\n",
       "        1.490e-01, 7.731e-02, 1.697e-01, 5.699e-02, 8.529e-01, 1.849e+00,\n",
       "        5.632e+00, 9.354e+01, 1.075e-02, 2.722e-02, 5.081e-02, 1.911e-02,\n",
       "        2.293e-02, 4.217e-03, 2.131e+01, 2.726e+01, 1.399e+02, 1.403e+03,\n",
       "        1.338e-01, 2.117e-01, 3.446e-01, 1.490e-01, 2.341e-01, 7.421e-02],\n",
       "       [1.530e+01, 2.527e+01, 1.024e+02, 7.324e+02, 1.082e-01, 1.697e-01,\n",
       "        1.683e-01, 8.751e-02, 1.926e-01, 6.540e-02, 4.390e-01, 1.012e+00,\n",
       "        3.498e+00, 4.350e+01, 5.233e-03, 3.057e-02, 3.576e-02, 1.083e-02,\n",
       "        1.768e-02, 2.967e-03, 2.027e+01, 3.671e+01, 1.493e+02, 1.269e+03,\n",
       "        1.641e-01, 6.110e-01, 6.335e-01, 2.024e-01, 4.027e-01, 9.876e-02],\n",
       "       [1.757e+01, 1.505e+01, 1.150e+02, 9.551e+02, 9.847e-02, 1.157e-01,\n",
       "        9.875e-02, 7.953e-02, 1.739e-01, 6.149e-02, 6.003e-01, 8.225e-01,\n",
       "        4.655e+00, 6.110e+01, 5.627e-03, 3.033e-02, 3.407e-02, 1.354e-02,\n",
       "        1.925e-02, 3.742e-03, 2.001e+01, 1.952e+01, 1.349e+02, 1.227e+03,\n",
       "        1.255e-01, 2.812e-01, 2.489e-01, 1.456e-01, 2.756e-01, 7.919e-02]])"
      ]
     },
     "execution_count": 40,
     "metadata": {},
     "output_type": "execute_result"
    }
   ],
   "source": [
    "\n",
    "X[0:30]"
   ]
  },
  {
   "cell_type": "markdown",
   "metadata": {
    "colab_type": "text",
    "id": "vQR-6WhexNtD"
   },
   "source": [
    "# Standardize the features"
   ]
  },
  {
   "cell_type": "code",
   "execution_count": 41,
   "metadata": {
    "colab": {},
    "colab_type": "code",
    "id": "W_h6qhdGxNtG"
   },
   "outputs": [],
   "source": [
    "from sklearn.preprocessing import StandardScaler"
   ]
  },
  {
   "cell_type": "code",
   "execution_count": 42,
   "metadata": {
    "colab": {},
    "colab_type": "code",
    "id": "1fpzTCrkxNtQ"
   },
   "outputs": [],
   "source": [
    "scaler = StandardScaler()\n",
    "scaler.fit(X)\n",
    "X1 = scaler.transform(X)"
   ]
  },
  {
   "cell_type": "code",
   "execution_count": 43,
   "metadata": {
    "colab": {
     "base_uri": "https://localhost:8080/",
     "height": 34
    },
    "colab_type": "code",
    "id": "rSN0SqqK05Tu",
    "outputId": "f279434a-4e7a-4235-cb83-9c467f04cf87"
   },
   "outputs": [
    {
     "data": {
      "text/plain": [
       "3.971287646545106"
      ]
     },
     "execution_count": 43,
     "metadata": {},
     "output_type": "execute_result"
    }
   ],
   "source": [
    "np.max(X1[:,0])"
   ]
  },
  {
   "cell_type": "code",
   "execution_count": 44,
   "metadata": {
    "colab": {
     "base_uri": "https://localhost:8080/",
     "height": 34
    },
    "colab_type": "code",
    "id": "8gg_3hSN3SpH",
    "outputId": "66d413cd-aa50-409d-9ba7-1e3f3d0af5e6"
   },
   "outputs": [
    {
     "name": "stdout",
     "output_type": "stream",
     "text": [
      "(569, 30)\n"
     ]
    }
   ],
   "source": [
    "print(X1.shape)"
   ]
  },
  {
   "cell_type": "code",
   "execution_count": 45,
   "metadata": {
    "colab": {
     "base_uri": "https://localhost:8080/",
     "height": 118
    },
    "colab_type": "code",
    "id": "-EMTv1D-xNta",
    "outputId": "409a0b03-a438-4200-a217-bac45a5948b6"
   },
   "outputs": [
    {
     "data": {
      "text/plain": [
       "array([ 3.97128765,  4.65188898,  3.97612984,  5.25052883,  4.77091122,\n",
       "        4.56842498,  4.24358882,  3.92792966,  4.48475086,  4.91091929,\n",
       "        8.90690934,  6.65527935,  9.46198577, 11.04184226,  8.02999927,\n",
       "        6.14348219, 12.0726804 ,  6.64960079,  7.07191706,  9.85159257,\n",
       "        4.09418939,  3.88590505,  4.28733746,  5.9301724 ,  3.95537411,\n",
       "        5.11287727,  4.7006688 ,  2.68587702,  6.04604135,  6.84685604])"
      ]
     },
     "execution_count": 45,
     "metadata": {},
     "output_type": "execute_result"
    }
   ],
   "source": [
    "np.max(X1, axis=0)"
   ]
  },
  {
   "cell_type": "code",
   "execution_count": 46,
   "metadata": {
    "colab": {},
    "colab_type": "code",
    "id": "_c7rrGorxNty"
   },
   "outputs": [],
   "source": [
    "X= X1"
   ]
  },
  {
   "cell_type": "markdown",
   "metadata": {
    "colab_type": "text",
    "id": "7N5UJdJtxNt9"
   },
   "source": [
    "Using k fold cross validation hence only splitting data into train and test."
   ]
  },
  {
   "cell_type": "code",
   "execution_count": 47,
   "metadata": {
    "colab": {},
    "colab_type": "code",
    "id": "Nk3RNXKexNuB"
   },
   "outputs": [],
   "source": [
    "from sklearn.model_selection import train_test_split"
   ]
  },
  {
   "cell_type": "code",
   "execution_count": 48,
   "metadata": {
    "colab": {},
    "colab_type": "code",
    "id": "VBVUiFHKxNuO"
   },
   "outputs": [],
   "source": [
    "X_train, X_test, y_train, y_test = train_test_split(X, y, test_size=0.4, random_state=1)"
   ]
  },
  {
   "cell_type": "code",
   "execution_count": 49,
   "metadata": {},
   "outputs": [
    {
     "data": {
      "text/plain": [
       "((341, 30), (228, 30), (341,), (228,))"
      ]
     },
     "execution_count": 49,
     "metadata": {},
     "output_type": "execute_result"
    }
   ],
   "source": [
    "X_train.shape, X_test.shape, y_train.shape, y_test.shape"
   ]
  },
  {
   "cell_type": "markdown",
   "metadata": {
    "colab_type": "text",
    "id": "aIMQTOrdxNuX"
   },
   "source": [
    "# Use sklearn  SVM . \n",
    "\n"
   ]
  },
  {
   "cell_type": "code",
   "execution_count": 50,
   "metadata": {
    "colab": {
     "base_uri": "https://localhost:8080/",
     "height": 84
    },
    "colab_type": "code",
    "id": "idJUG2q3xNua",
    "outputId": "c9cb20c2-4836-4354-f28b-af656d56715d"
   },
   "outputs": [
    {
     "data": {
      "text/plain": [
       "LinearSVC(C=1.0, class_weight=None, dual=True, fit_intercept=True,\n",
       "     intercept_scaling=1, loss='squared_hinge', max_iter=1000,\n",
       "     multi_class='ovr', penalty='l2', random_state=None, tol=0.0001,\n",
       "     verbose=0)"
      ]
     },
     "execution_count": 50,
     "metadata": {},
     "output_type": "execute_result"
    }
   ],
   "source": [
    "from sklearn import svm\n",
    "clf = svm.LinearSVC() \n",
    "clf.fit(X_train, y_train)\n"
   ]
  },
  {
   "cell_type": "markdown",
   "metadata": {
    "colab_type": "text",
    "id": "Cjz1zhGtxNul"
   },
   "source": [
    "# Accuracy"
   ]
  },
  {
   "cell_type": "code",
   "execution_count": 51,
   "metadata": {
    "colab": {
     "base_uri": "https://localhost:8080/",
     "height": 34
    },
    "colab_type": "code",
    "id": "8UwklAefxNup",
    "outputId": "d9969d82-ec7c-4e5b-a549-c859b9a3c2ac"
   },
   "outputs": [
    {
     "data": {
      "text/plain": [
       "0.9605263157894737"
      ]
     },
     "execution_count": 51,
     "metadata": {},
     "output_type": "execute_result"
    }
   ],
   "source": [
    "clf.score(X_test, y_test)"
   ]
  },
  {
   "cell_type": "code",
   "execution_count": 52,
   "metadata": {
    "colab": {},
    "colab_type": "code",
    "id": "QlSxna7vxNuy"
   },
   "outputs": [],
   "source": [
    "y_test_pred = clf.predict(X_test)"
   ]
  },
  {
   "cell_type": "markdown",
   "metadata": {
    "colab_type": "text",
    "id": "CGYyP5nTxNu8"
   },
   "source": [
    "# Recall metric (true positive are recalled)"
   ]
  },
  {
   "cell_type": "code",
   "execution_count": 53,
   "metadata": {
    "colab": {},
    "colab_type": "code",
    "id": "y7A4E3ugxNu_"
   },
   "outputs": [],
   "source": [
    "from sklearn.metrics import recall_score, precision_score, roc_curve, roc_auc_score, f1_score, fbeta_score, classification_report"
   ]
  },
  {
   "cell_type": "markdown",
   "metadata": {
    "colab_type": "text",
    "id": "21QLNq0sxNvS"
   },
   "source": []
  },
  {
   "cell_type": "code",
   "execution_count": 54,
   "metadata": {
    "colab": {},
    "colab_type": "code",
    "id": "Mjawx5_8xNvW"
   },
   "outputs": [
    {
     "name": "stdout",
     "output_type": "stream",
     "text": [
      "0.9594594594594594 0.9793103448275862 0.9692832764505119\n"
     ]
    }
   ],
   "source": [
    "\n",
    "rec_score = recall_score(y_test,y_test_pred)\n",
    "prec_score = precision_score(y_test,y_test_pred)\n",
    "f_score = f1_score(y_test,y_test_pred)\n",
    "print(rec_score,prec_score,f_score)"
   ]
  },
  {
   "cell_type": "code",
   "execution_count": 55,
   "metadata": {
    "colab": {},
    "colab_type": "code",
    "id": "TgK9vQQlxNvo"
   },
   "outputs": [
    {
     "name": "stdout",
     "output_type": "stream",
     "text": [
      "0.9608872248992211\n"
     ]
    }
   ],
   "source": [
    "\n",
    "f_beta = fbeta_score(y_test, y_test_pred, average='weighted', beta=0.6)\n",
    "print(f_beta)"
   ]
  },
  {
   "cell_type": "markdown",
   "metadata": {
    "colab_type": "text",
    "id": "qHWL2-eHxNvx"
   },
   "source": [
    "# Kernel SVM using sklearn"
   ]
  },
  {
   "cell_type": "code",
   "execution_count": 56,
   "metadata": {
    "colab": {},
    "colab_type": "code",
    "id": "QcH0dj3axNvz"
   },
   "outputs": [],
   "source": [
    "hyper_parameters = [{'kernel': ['rbf'], 'gamma': [1e-3, 1e-4],\n",
    "                     'C': [1, 10, 100, 1000]}]"
   ]
  },
  {
   "cell_type": "code",
   "execution_count": 57,
   "metadata": {
    "colab": {},
    "colab_type": "code",
    "id": "sxmHcWbCxNv7"
   },
   "outputs": [],
   "source": [
    "from sklearn.svm import SVC\n",
    "from sklearn.model_selection import GridSearchCV"
   ]
  },
  {
   "cell_type": "code",
   "execution_count": 58,
   "metadata": {
    "colab": {},
    "colab_type": "code",
    "id": "-IrZdr29xNwF"
   },
   "outputs": [],
   "source": [
    "clf = GridSearchCV(SVC(probability=True), hyper_parameters, cv=5,\n",
    "                        verbose=10)"
   ]
  },
  {
   "cell_type": "code",
   "execution_count": 59,
   "metadata": {
    "colab": {},
    "colab_type": "code",
    "id": "Be9g1T3UxNwM",
    "outputId": "e18bb873-334c-48f7-b514-d25647d1cbfd"
   },
   "outputs": [
    {
     "name": "stdout",
     "output_type": "stream",
     "text": [
      "Fitting 5 folds for each of 8 candidates, totalling 40 fits\n",
      "[CV] C=1, gamma=0.001, kernel=rbf ....................................\n",
      "[CV]  C=1, gamma=0.001, kernel=rbf, score=0.8985507246376812, total=   0.0s\n",
      "[CV] C=1, gamma=0.001, kernel=rbf ....................................\n",
      "[CV]  C=1, gamma=0.001, kernel=rbf, score=0.9565217391304348, total=   0.0s\n",
      "[CV] C=1, gamma=0.001, kernel=rbf ....................................\n",
      "[CV]  C=1, gamma=0.001, kernel=rbf, score=0.9411764705882353, total=   0.0s"
     ]
    },
    {
     "name": "stderr",
     "output_type": "stream",
     "text": [
      "[Parallel(n_jobs=1)]: Using backend SequentialBackend with 1 concurrent workers.\n",
      "[Parallel(n_jobs=1)]: Done   1 out of   1 | elapsed:    0.0s remaining:    0.0s\n",
      "[Parallel(n_jobs=1)]: Done   2 out of   2 | elapsed:    0.0s remaining:    0.0s\n",
      "[Parallel(n_jobs=1)]: Done   3 out of   3 | elapsed:    0.0s remaining:    0.0s\n",
      "[Parallel(n_jobs=1)]: Done   4 out of   4 | elapsed:    0.0s remaining:    0.0s\n",
      "[Parallel(n_jobs=1)]: Done   5 out of   5 | elapsed:    0.1s remaining:    0.0s\n"
     ]
    },
    {
     "name": "stdout",
     "output_type": "stream",
     "text": [
      "\n",
      "[CV] C=1, gamma=0.001, kernel=rbf ....................................\n",
      "[CV]  C=1, gamma=0.001, kernel=rbf, score=0.9705882352941176, total=   0.0s\n",
      "[CV] C=1, gamma=0.001, kernel=rbf ....................................\n",
      "[CV]  C=1, gamma=0.001, kernel=rbf, score=0.9402985074626866, total=   0.0s\n",
      "[CV] C=1, gamma=0.0001, kernel=rbf ...................................\n",
      "[CV]  C=1, gamma=0.0001, kernel=rbf, score=0.7391304347826086, total=   0.0s\n",
      "[CV] C=1, gamma=0.0001, kernel=rbf ...................................\n",
      "[CV]  C=1, gamma=0.0001, kernel=rbf, score=0.6811594202898551, total=   0.0s\n",
      "[CV] C=1, gamma=0.0001, kernel=rbf ...................................\n"
     ]
    },
    {
     "name": "stderr",
     "output_type": "stream",
     "text": [
      "[Parallel(n_jobs=1)]: Done   6 out of   6 | elapsed:    0.1s remaining:    0.0s\n",
      "[Parallel(n_jobs=1)]: Done   7 out of   7 | elapsed:    0.2s remaining:    0.0s\n",
      "[Parallel(n_jobs=1)]: Done   8 out of   8 | elapsed:    0.2s remaining:    0.0s\n",
      "[Parallel(n_jobs=1)]: Done   9 out of   9 | elapsed:    0.3s remaining:    0.0s\n"
     ]
    },
    {
     "name": "stdout",
     "output_type": "stream",
     "text": [
      "[CV]  C=1, gamma=0.0001, kernel=rbf, score=0.6617647058823529, total=   0.0s\n",
      "[CV] C=1, gamma=0.0001, kernel=rbf ...................................\n",
      "[CV]  C=1, gamma=0.0001, kernel=rbf, score=0.7205882352941176, total=   0.0s\n",
      "[CV] C=1, gamma=0.0001, kernel=rbf ...................................\n",
      "[CV]  C=1, gamma=0.0001, kernel=rbf, score=0.6716417910447762, total=   0.0s\n",
      "[CV] C=10, gamma=0.001, kernel=rbf ...................................\n",
      "[CV]  C=10, gamma=0.001, kernel=rbf, score=0.8985507246376812, total=   0.0s\n",
      "[CV] C=10, gamma=0.001, kernel=rbf ...................................\n",
      "[CV]  C=10, gamma=0.001, kernel=rbf, score=0.9855072463768116, total=   0.0s\n",
      "[CV] C=10, gamma=0.001, kernel=rbf ...................................\n",
      "[CV] ......... C=10, gamma=0.001, kernel=rbf, score=1.0, total=   0.0s\n",
      "[CV] C=10, gamma=0.001, kernel=rbf ...................................\n",
      "[CV]  C=10, gamma=0.001, kernel=rbf, score=0.9852941176470589, total=   0.0s\n",
      "[CV] C=10, gamma=0.001, kernel=rbf ...................................\n",
      "[CV]  C=10, gamma=0.001, kernel=rbf, score=0.9701492537313433, total=   0.0s\n",
      "[CV] C=10, gamma=0.0001, kernel=rbf ..................................\n",
      "[CV]  C=10, gamma=0.0001, kernel=rbf, score=0.9130434782608695, total=   0.0s\n",
      "[CV] C=10, gamma=0.0001, kernel=rbf ..................................\n",
      "[CV]  C=10, gamma=0.0001, kernel=rbf, score=0.9565217391304348, total=   0.0s\n",
      "[CV] C=10, gamma=0.0001, kernel=rbf ..................................\n",
      "[CV]  C=10, gamma=0.0001, kernel=rbf, score=0.9411764705882353, total=   0.0s\n",
      "[CV] C=10, gamma=0.0001, kernel=rbf ..................................\n",
      "[CV]  C=10, gamma=0.0001, kernel=rbf, score=0.9705882352941176, total=   0.0s\n",
      "[CV] C=10, gamma=0.0001, kernel=rbf ..................................\n",
      "[CV]  C=10, gamma=0.0001, kernel=rbf, score=0.9402985074626866, total=   0.0s\n",
      "[CV] C=100, gamma=0.001, kernel=rbf ..................................\n",
      "[CV]  C=100, gamma=0.001, kernel=rbf, score=0.9130434782608695, total=   0.0s\n",
      "[CV] C=100, gamma=0.001, kernel=rbf ..................................\n",
      "[CV] ........ C=100, gamma=0.001, kernel=rbf, score=1.0, total=   0.0s\n",
      "[CV] C=100, gamma=0.001, kernel=rbf ..................................\n",
      "[CV] ........ C=100, gamma=0.001, kernel=rbf, score=1.0, total=   0.0s\n",
      "[CV] C=100, gamma=0.001, kernel=rbf ..................................\n",
      "[CV]  C=100, gamma=0.001, kernel=rbf, score=0.9705882352941176, total=   0.0s\n",
      "[CV] C=100, gamma=0.001, kernel=rbf ..................................\n",
      "[CV]  C=100, gamma=0.001, kernel=rbf, score=0.9701492537313433, total=   0.0s\n",
      "[CV] C=100, gamma=0.0001, kernel=rbf .................................\n",
      "[CV]  C=100, gamma=0.0001, kernel=rbf, score=0.8985507246376812, total=   0.0s\n",
      "[CV] C=100, gamma=0.0001, kernel=rbf .................................\n",
      "[CV]  C=100, gamma=0.0001, kernel=rbf, score=0.9855072463768116, total=   0.0s\n",
      "[CV] C=100, gamma=0.0001, kernel=rbf .................................\n",
      "[CV] ....... C=100, gamma=0.0001, kernel=rbf, score=1.0, total=   0.0s\n",
      "[CV] C=100, gamma=0.0001, kernel=rbf .................................\n",
      "[CV]  C=100, gamma=0.0001, kernel=rbf, score=0.9852941176470589, total=   0.0s\n",
      "[CV] C=100, gamma=0.0001, kernel=rbf .................................\n",
      "[CV]  C=100, gamma=0.0001, kernel=rbf, score=0.9701492537313433, total=   0.0s\n",
      "[CV] C=1000, gamma=0.001, kernel=rbf .................................\n",
      "[CV]  C=1000, gamma=0.001, kernel=rbf, score=0.9130434782608695, total=   0.0s\n",
      "[CV] C=1000, gamma=0.001, kernel=rbf .................................\n",
      "[CV] ....... C=1000, gamma=0.001, kernel=rbf, score=1.0, total=   0.0s\n",
      "[CV] C=1000, gamma=0.001, kernel=rbf .................................\n",
      "[CV]  C=1000, gamma=0.001, kernel=rbf, score=0.9852941176470589, total=   0.0s\n",
      "[CV] C=1000, gamma=0.001, kernel=rbf .................................\n",
      "[CV]  C=1000, gamma=0.001, kernel=rbf, score=0.9705882352941176, total=   0.0s\n",
      "[CV] C=1000, gamma=0.001, kernel=rbf .................................\n",
      "[CV]  C=1000, gamma=0.001, kernel=rbf, score=0.9850746268656716, total=   0.0s\n",
      "[CV] C=1000, gamma=0.0001, kernel=rbf ................................\n",
      "[CV]  C=1000, gamma=0.0001, kernel=rbf, score=0.9130434782608695, total=   0.0s\n",
      "[CV] C=1000, gamma=0.0001, kernel=rbf ................................\n",
      "[CV] ...... C=1000, gamma=0.0001, kernel=rbf, score=1.0, total=   0.0s\n",
      "[CV] C=1000, gamma=0.0001, kernel=rbf ................................\n",
      "[CV] ...... C=1000, gamma=0.0001, kernel=rbf, score=1.0, total=   0.0s\n",
      "[CV] C=1000, gamma=0.0001, kernel=rbf ................................\n",
      "[CV]  C=1000, gamma=0.0001, kernel=rbf, score=0.9705882352941176, total=   0.0s\n",
      "[CV] C=1000, gamma=0.0001, kernel=rbf ................................\n",
      "[CV]  C=1000, gamma=0.0001, kernel=rbf, score=0.9850746268656716, total=   0.0s\n"
     ]
    },
    {
     "name": "stderr",
     "output_type": "stream",
     "text": [
      "[Parallel(n_jobs=1)]: Done  40 out of  40 | elapsed:    1.0s finished\n"
     ]
    }
   ],
   "source": [
    "grid_search = clf.fit(X_train, y_train)"
   ]
  },
  {
   "cell_type": "code",
   "execution_count": 60,
   "metadata": {
    "colab": {},
    "colab_type": "code",
    "id": "z0rn8sU3xNwU"
   },
   "outputs": [],
   "source": [
    "#uncomment for parallel execution.\n",
    "#clf = GridSearchCV(SVC(probability=True), hyper_parameters, cv=5,scoring='accuracy', verbose=10, n_jobs=-1)"
   ]
  },
  {
   "cell_type": "code",
   "execution_count": 61,
   "metadata": {
    "colab": {},
    "colab_type": "code",
    "id": "ZUlbEyc_xNwa",
    "outputId": "b4e84024-878e-4afe-8759-eea12fa0120d"
   },
   "outputs": [
    {
     "data": {
      "text/plain": [
       "SVC(C=1000, cache_size=200, class_weight=None, coef0=0.0,\n",
       "  decision_function_shape='ovr', degree=3, gamma=0.0001, kernel='rbf',\n",
       "  max_iter=-1, probability=True, random_state=None, shrinking=True,\n",
       "  tol=0.001, verbose=False)"
      ]
     },
     "execution_count": 61,
     "metadata": {},
     "output_type": "execute_result"
    }
   ],
   "source": [
    "grid_search.best_estimator_"
   ]
  },
  {
   "cell_type": "code",
   "execution_count": 62,
   "metadata": {
    "colab": {},
    "colab_type": "code",
    "id": "xo3LAd6vxNwg",
    "outputId": "c59e8694-068c-4ba1-e5c4-6d7721f36eef"
   },
   "outputs": [
    {
     "data": {
      "text/plain": [
       "0.9736070381231672"
      ]
     },
     "execution_count": 62,
     "metadata": {},
     "output_type": "execute_result"
    }
   ],
   "source": [
    "grid_search.best_score_"
   ]
  },
  {
   "cell_type": "markdown",
   "metadata": {
    "colab_type": "text",
    "id": "Es73d89ZxNwq"
   },
   "source": [
    "# Parameters selected by grid search."
   ]
  },
  {
   "cell_type": "code",
   "execution_count": 63,
   "metadata": {
    "colab": {},
    "colab_type": "code",
    "id": "Yt3GrCeGxNwz",
    "outputId": "78401975-114e-4ea7-f272-e387cd057729"
   },
   "outputs": [
    {
     "data": {
      "text/plain": [
       "{'C': 1000, 'gamma': 0.0001, 'kernel': 'rbf'}"
      ]
     },
     "execution_count": 63,
     "metadata": {},
     "output_type": "execute_result"
    }
   ],
   "source": [
    "grid_search.best_params_"
   ]
  },
  {
   "cell_type": "code",
   "execution_count": 64,
   "metadata": {
    "colab": {},
    "colab_type": "code",
    "id": "L0_T6iDxxNw7",
    "outputId": "cbc7f3d4-1b76-477c-f20d-6e33540ae151"
   },
   "outputs": [
    {
     "data": {
      "text/plain": [
       "0.9649122807017544"
      ]
     },
     "execution_count": 64,
     "metadata": {},
     "output_type": "execute_result"
    }
   ],
   "source": [
    "grid_search.score(X_test, y_test)"
   ]
  },
  {
   "cell_type": "code",
   "execution_count": 76,
   "metadata": {
    "colab": {},
    "colab_type": "code",
    "id": "xCTHWkmFxNxE"
   },
   "outputs": [
    {
     "name": "stdout",
     "output_type": "stream",
     "text": [
      "              precision    recall  f1-score   support\n",
      "\n",
      "           0       0.93      0.96      0.94        80\n",
      "           1       0.98      0.96      0.97       148\n",
      "\n",
      "   micro avg       0.96      0.96      0.96       228\n",
      "   macro avg       0.95      0.96      0.96       228\n",
      "weighted avg       0.96      0.96      0.96       228\n",
      "\n"
     ]
    }
   ],
   "source": [
    "print(classification_report(y_test,y_test_pred))"
   ]
  },
  {
   "cell_type": "markdown",
   "metadata": {
    "colab_type": "text",
    "id": "bGw0kObJxNxM"
   },
   "source": [
    "# ROC Curve "
   ]
  },
  {
   "cell_type": "code",
   "execution_count": 77,
   "metadata": {
    "colab": {},
    "colab_type": "code",
    "id": "AdqDtF6TxNxO"
   },
   "outputs": [],
   "source": [
    "y_test_pred_prob = grid_search.predict_proba(X_test)"
   ]
  },
  {
   "cell_type": "code",
   "execution_count": 78,
   "metadata": {
    "colab": {},
    "colab_type": "code",
    "id": "0J4M5zZZxNxe",
    "outputId": "c781b375-35ea-463f-da74-7e95ef335090"
   },
   "outputs": [
    {
     "data": {
      "text/plain": [
       "(228, 2)"
      ]
     },
     "execution_count": 78,
     "metadata": {},
     "output_type": "execute_result"
    }
   ],
   "source": [
    "y_test_pred_prob.shape"
   ]
  },
  {
   "cell_type": "code",
   "execution_count": 79,
   "metadata": {},
   "outputs": [],
   "source": [
    "y_prob= grid_search.predict(X_test)"
   ]
  },
  {
   "cell_type": "code",
   "execution_count": 80,
   "metadata": {
    "colab": {},
    "colab_type": "code",
    "id": "AIEITfNDxNxl"
   },
   "outputs": [],
   "source": [
    "# Probability for the positive outcome\n",
    "prob = y_test_pred_prob[:, 1]"
   ]
  },
  {
   "cell_type": "code",
   "execution_count": 85,
   "metadata": {
    "colab": {},
    "colab_type": "code",
    "id": "0WR1DyN2xNxr"
   },
   "outputs": [],
   "source": [
    "FPR, TPR, THR = roc_curve(y_test, prob)"
   ]
  },
  {
   "cell_type": "code",
   "execution_count": 86,
   "metadata": {
    "colab": {},
    "colab_type": "code",
    "id": "0IYwT2yZxNxv",
    "outputId": "15437138-c929-4185-f57f-93a7772ef3a8"
   },
   "outputs": [
    {
     "data": {
      "text/plain": [
       "(array([0.    , 0.    , 0.    , 0.0125, 0.0125, 0.025 , 0.025 , 0.0375,\n",
       "        0.0375, 0.05  , 0.05  , 0.0625, 0.0625, 0.075 , 0.075 , 0.95  ,\n",
       "        1.    ]),\n",
       " array([0.        , 0.00675676, 0.86486486, 0.86486486, 0.87162162,\n",
       "        0.87162162, 0.93243243, 0.93243243, 0.95945946, 0.95945946,\n",
       "        0.97972973, 0.97972973, 0.99324324, 0.99324324, 1.        ,\n",
       "        1.        , 1.        ]),\n",
       " array([2.00000000e+00, 1.00000000e+00, 8.87083254e-01, 8.83954101e-01,\n",
       "        8.81473901e-01, 8.77741997e-01, 8.08889551e-01, 7.78657795e-01,\n",
       "        6.58731522e-01, 5.74956359e-01, 5.16480786e-01, 5.00000000e-01,\n",
       "        4.43312693e-01, 4.34695012e-01, 3.33385274e-01, 2.18082197e-07,\n",
       "        1.00000010e-07]))"
      ]
     },
     "execution_count": 86,
     "metadata": {},
     "output_type": "execute_result"
    }
   ],
   "source": [
    "FPR, TPR, THR"
   ]
  },
  {
   "cell_type": "code",
   "execution_count": 87,
   "metadata": {
    "colab": {},
    "colab_type": "code",
    "id": "0205QG5XxNx0",
    "outputId": "1461df3b-dbe4-490e-8116-a558003660d4"
   },
   "outputs": [
    {
     "data": {
      "text/plain": [
       "<matplotlib.legend.Legend at 0x1fd28bf0fd0>"
      ]
     },
     "execution_count": 87,
     "metadata": {},
     "output_type": "execute_result"
    },
    {
     "data": {
      "image/png": "[encoded data removed]",
      "text/plain": [
       "<Figure size 432x288 with 1 Axes>"
      ]
     },
     "metadata": {
      "needs_background": "light"
     },
     "output_type": "display_data"
    }
   ],
   "source": [
    "plt.plot([0, 1], [0, 1], label=\"random guess\") # random model\n",
    "plt.plot(FPR, TPR,  '--', label= \"tunned svm with rbf\")\n",
    "plt.xlabel('FPR')\n",
    "plt.ylabel('TPR')\n",
    "plt.title('ROC Curve')\n",
    "plt.legend()"
   ]
  },
  {
   "cell_type": "markdown",
   "metadata": {
    "colab_type": "text",
    "id": "tMq6Ae16xNx8"
   },
   "source": [
    "# Area under the curve(AUC) for tunned SVM. "
   ]
  },
  {
   "cell_type": "code",
   "execution_count": 88,
   "metadata": {
    "colab": {},
    "colab_type": "code",
    "id": "7QKZ88uVxNx-"
   },
   "outputs": [
    {
     "name": "stdout",
     "output_type": "stream",
     "text": [
      "0.9950168918918919\n",
      "0.9950168918918919\n"
     ]
    }
   ],
   "source": [
    "from sklearn.metrics import auc\n",
    "print(auc(FPR, TPR))\n",
    "print(roc_auc_score(y_test,prob))"
   ]
  }
 ],
 "metadata": {
  "colab": {
   "name": "HW6a_SVM_sklearn_questions.ipynb",
   "provenance": [],
   "version": "0.3.2"
  },
  "kernelspec": {
   "display_name": "Python 3",
   "language": "python",
   "name": "python3"
  },
  "language_info": {
   "codemirror_mode": {
    "name": "ipython",
    "version": 3
   },
   "file_extension": ".py",
   "mimetype": "text/x-python",
   "name": "python",
   "nbconvert_exporter": "python",
   "pygments_lexer": "ipython3",
   "version": "3.7.3"
  },
  "toc": {
   "base_numbering": 1,
   "nav_menu": {},
   "number_sections": false,
   "sideBar": true,
   "skip_h1_title": false,
   "title_cell": "Table of Contents",
   "title_sidebar": "Contents",
   "toc_cell": false,
   "toc_position": {},
   "toc_section_display": true,
   "toc_window_display": false
  },
  "varInspector": {
   "cols": {
    "lenName": 16,
    "lenType": 16,
    "lenVar": 40
   },
   "kernels_config": {
    "python": {
     "delete_cmd_postfix": "",
     "delete_cmd_prefix": "del ",
     "library": "var_list.py",
     "varRefreshCmd": "print(var_dic_list())"
    },
    "r": {
     "delete_cmd_postfix": ") ",
     "delete_cmd_prefix": "rm(",
     "library": "var_list.r",
     "varRefreshCmd": "cat(var_dic_list()) "
    }
   },
   "types_to_exclude": [
    "module",
    "function",
    "builtin_function_or_method",
    "instance",
    "_Feature"
   ],
   "window_display": false
  }
 },
 "nbformat": 4,
 "nbformat_minor": 1
}
